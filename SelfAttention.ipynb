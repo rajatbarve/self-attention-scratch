{
  "nbformat": 4,
  "nbformat_minor": 0,
  "metadata": {
    "colab": {
      "provenance": [],
      "gpuType": "T4"
    },
    "kernelspec": {
      "name": "python3",
      "display_name": "Python 3"
    },
    "language_info": {
      "name": "python"
    },
    "accelerator": "GPU"
  },
  "cells": [
    {
      "cell_type": "markdown",
      "source": [
        "# Self-Attention from Scratch: Finding the Largest Number in a Sequence\n",
        "\n",
        "This notebook demonstrates a from-scratch implementation of the **self-attention mechanism** (the core of Transformer architectures) to solve a simple but illustrative task: identifying the **largest number** in a numerical sequence.\n",
        "\n",
        "---\n",
        "\n",
        "### Self-Attention Overview\n",
        "\n",
        "Self-attention allows a model to dynamically weigh the importance of each element in a sequence **in the context of the entire sequence**. For each token (in this case, each number), the model computes:\n",
        "\n",
        "- A **query**: representing the question \"What am I looking for?\"\n",
        "- A **key**: representing \"What do I offer?\"\n",
        "- A **value**: the information carried by the token.\n",
        "\n",
        "Attention weights are calculated by taking scaled dot-products between queries and keys. These weights are then used to combine the values — giving more influence to elements considered more relevant.\n",
        "\n",
        "---\n",
        "\n",
        "### Why This Works for Finding the Maximum\n",
        "\n",
        "Although the model has no hard-coded notion of \"greater than\", it learns to **internally represent and compare magnitudes** through the training process.\n",
        "\n",
        "Here's the intuition:\n",
        "\n",
        "- During training, the model repeatedly sees sequences where the label is **the index of the maximum number**.\n",
        "- To minimize loss, the model must produce an output where that position gets the highest final score.\n",
        "- Through backpropagation, it adjusts its internal weights so that:\n",
        "  - **Larger input values produce stronger key and value representations**.\n",
        "  - **Queries learn to “seek” high-magnitude patterns** across the sequence.\n",
        "- The attention mechanism then amplifies contributions from large values — effectively letting the model **\"focus on the biggest number\"** regardless of its position in the sequence.\n",
        "- The final feed-forward layers pick up on this focused representation and translate it into a position prediction.\n",
        "\n",
        "In essence, the model transforms numeric comparison into a **learned attention pattern** — using dot-product similarity to approximate magnitude-based relevance.\n",
        "\n",
        "---\n",
        "\n",
        "### Key Steps in the Pipeline\n",
        "\n",
        "- Generate sequences of fixed length (`seq_len`) with random numbers _(in this example, `seq_len` is kept in the range [6,15] and every number in each sequence is in the range [0,1000])_.\n",
        "- Normalize each sequence to ensure scale consistency.\n",
        "- Embed scalar inputs into dense vectors.\n",
        "- Compute self-attention using queries, keys, and values.\n",
        "- Aggregate contextual information using attention weights.\n",
        "- Use a feed-forward network to map the attended representation to a position index.\n",
        "- Train and evaluate the model on randomly generated sequences.\n",
        "- Visualize performance (e.g., using a confusion matrix).\n",
        "\n",
        "---\n",
        "\n",
        "### Final Notes\n",
        "\n",
        "This project offers an intuitive, hands-on look at how **attention-based architectures** work — even outside of language modeling. While the task here is simple, the underlying mechanism is the same as in modern Transformers: **learn what to pay attention to** in order to solve a task.\n",
        "\n",
        "Despite the simplicity of the model, we achieve **high accuracy without any explicit comparison logic** — a clear demonstration of how self-attention learns to capture patterns based on context and structure.\n",
        "\n",
        "> _Note: This model is not optimized for performance. The focus here is educational — to demystify the mechanics of self-attention and show how it can generalize beyond text-based applications._\n"
      ],
      "metadata": {
        "id": "1HuzR8uT362b"
      }
    },
    {
      "cell_type": "code",
      "source": [
        "import pandas as pd\n",
        "import numpy as np\n",
        "import torch\n",
        "import torch.nn as nn\n",
        "import torch.optim as optim\n",
        "\n",
        "import matplotlib.pyplot as plt\n",
        "import seaborn as sns\n",
        "from sklearn.metrics import confusion_matrix"
      ],
      "metadata": {
        "id": "K8mQxxpM34cM"
      },
      "execution_count": 24,
      "outputs": []
    },
    {
      "cell_type": "code",
      "source": [
        "seq_len = np.random.randint(6,15)\n",
        "print(f\"seq_len: {seq_len}\")"
      ],
      "metadata": {
        "colab": {
          "base_uri": "https://localhost:8080/"
        },
        "id": "qYNd-HYmP2k7",
        "outputId": "a29d34e3-47ab-43f5-f742-99accd82b2b8"
      },
      "execution_count": 25,
      "outputs": [
        {
          "output_type": "stream",
          "name": "stdout",
          "text": [
            "seq_len: 10\n"
          ]
        }
      ]
    },
    {
      "cell_type": "code",
      "source": [
        "train_samples = 10000\n",
        "train_data_input = torch.Tensor([[np.random.randint(1000) for _ in range(seq_len)] for _ in range(train_samples)])"
      ],
      "metadata": {
        "id": "R-WeNITuP2qM"
      },
      "execution_count": 26,
      "outputs": []
    },
    {
      "cell_type": "code",
      "source": [
        "train_data_input"
      ],
      "metadata": {
        "colab": {
          "base_uri": "https://localhost:8080/"
        },
        "id": "VZwPtr9WP2tx",
        "outputId": "ee5aa76b-e87d-442e-91b0-e129f1321048"
      },
      "execution_count": 27,
      "outputs": [
        {
          "output_type": "execute_result",
          "data": {
            "text/plain": [
              "tensor([[687., 904., 107.,  ..., 906., 502., 190.],\n",
              "        [182., 399., 609.,  ..., 711., 522., 339.],\n",
              "        [337., 759., 517.,  ...,  48., 850.,   5.],\n",
              "        ...,\n",
              "        [  7., 639., 259.,  ..., 606., 199., 397.],\n",
              "        [906., 139., 554.,  ..., 176.,   5., 333.],\n",
              "        [157., 505., 701.,  ...,  42., 737., 391.]])"
            ]
          },
          "metadata": {},
          "execution_count": 27
        }
      ]
    },
    {
      "cell_type": "code",
      "source": [
        "class SelfAttentionMaximizer(nn.Module):\n",
        "  def __init__(self, embedding_dim, seq_len):\n",
        "    super().__init__()\n",
        "    self.input_embed = nn.Linear(1, embedding_dim)\n",
        "    self.w_q = nn.Linear(embedding_dim, embedding_dim)\n",
        "    self.w_k = nn.Linear(embedding_dim, embedding_dim)\n",
        "    self.w_v = nn.Linear(embedding_dim, embedding_dim)\n",
        "    self.ffn1 = nn.Linear(embedding_dim*seq_len, 32)\n",
        "    self.ffn2 = nn.ReLU()\n",
        "    self.output_layer = nn.Linear(32, seq_len)\n",
        "\n",
        "\n",
        "  def forward(self, x, embedding_dim):\n",
        "    # normalize inputs\n",
        "    x = (x - x.min(dim=1, keepdim=True)[0]) / (x.max(dim=1, keepdim=True)[0] - x.min(dim=1, keepdim=True)[0] + 1e-6)\n",
        "\n",
        "    # convert each number (\"token\") to a dense embedding vector\n",
        "    embedded_input = self.input_embed(x.unsqueeze(-1).float())\n",
        "\n",
        "    # get query, key, value vectors for each token\n",
        "    q = self.w_q(embedded_input) # shape (batch_size, seq_len, embedding_dim)\n",
        "    k = self.w_k(embedded_input)\n",
        "    v = self.w_v(embedded_input)\n",
        "\n",
        "    # scale and normalize to weight\n",
        "    raw_attention_weight = torch.matmul(q, k.transpose(-2,-1))\n",
        "    attention = torch.softmax(raw_attention_weight/embedding_dim**0.5, dim=-1)\n",
        "\n",
        "    output = torch.matmul(attention, v) # shape (batch_size, seq_len, embedding_dim)\n",
        "\n",
        "    # Pass through FFN and get prediction\n",
        "    x = output.view(output.shape[0], -1) # flatten (_,seq_len,embedding_dim)\n",
        "    x = self.ffn1(x)\n",
        "    x = self.ffn2(x)\n",
        "\n",
        "    predicted_position_logits = self.output_layer(x)\n",
        "\n",
        "    return predicted_position_logits\n",
        "\n"
      ],
      "metadata": {
        "id": "fbx9ggTVP2yC"
      },
      "execution_count": 28,
      "outputs": []
    },
    {
      "cell_type": "code",
      "source": [
        "loss_function = nn.CrossEntropyLoss()"
      ],
      "metadata": {
        "id": "bviKl1mNP21J"
      },
      "execution_count": 29,
      "outputs": []
    },
    {
      "cell_type": "code",
      "source": [
        "# TRAINING AND TESTING LOOP\n",
        "\n",
        "batch_size = 32\n",
        "num_epochs = 20\n",
        "embedding_dim = 3\n",
        "\n",
        "device = torch.device(\"cuda\" if torch.cuda.is_available() else \"cpu\")\n",
        "print(f\"Using device: {device}\")\n",
        "\n",
        "# train-test split\n",
        "dataset_size = train_data_input.shape[0]\n",
        "train_size = int(0.8 * dataset_size)\n",
        "test_size = dataset_size - train_size\n",
        "indices = torch.randperm(dataset_size)\n",
        "train_indices = indices[:train_size]\n",
        "test_indices = indices[train_size:]\n",
        "\n",
        "train_data = train_data_input[train_indices].to(device)\n",
        "test_data = train_data_input[test_indices].to(device)\n",
        "\n",
        "model = SelfAttentionMaximizer(embedding_dim, seq_len).to(device)\n",
        "optimizer = optim.Adam(model.parameters(), lr=0.001)\n",
        "\n",
        "for epoch in range(num_epochs):\n",
        "    # ---- Training ----\n",
        "    model.train()\n",
        "    train_loss = 0.0\n",
        "    train_correct = 0\n",
        "    train_total = 0\n",
        "    train_predicted_outcome = []\n",
        "\n",
        "    for batch in range(0, train_data.shape[0], batch_size):\n",
        "        x_batch = train_data[batch:batch + batch_size]\n",
        "        y_batch = x_batch.argmax(dim=1).to(device)\n",
        "\n",
        "        optimizer.zero_grad()\n",
        "        y_pred = model(x_batch, embedding_dim)\n",
        "        loss = loss_function(y_pred, y_batch)\n",
        "        loss.backward()\n",
        "        optimizer.step()\n",
        "\n",
        "        train_loss += loss.item() * x_batch.size(0)\n",
        "        predicted_positions = y_pred.argmax(dim=1)\n",
        "        train_correct += (predicted_positions == y_batch).sum().item()\n",
        "        train_total += y_batch.size(0)\n",
        "\n",
        "        # Collect predictions\n",
        "        train_predicted_outcome.append(predicted_positions.detach().cpu().numpy())\n",
        "\n",
        "    avg_train_loss = train_loss / train_total\n",
        "    train_accuracy = train_correct / train_total * 100\n",
        "    train_predicted_outcome = np.concatenate(train_predicted_outcome)\n",
        "\n",
        "    # ---- Testing ----\n",
        "    model.eval()\n",
        "    test_loss = 0.0\n",
        "    test_correct = 0\n",
        "    test_total = 0\n",
        "    test_predicted_outcome = []\n",
        "    test_true_outcome = []\n",
        "\n",
        "    with torch.no_grad():\n",
        "        for batch in range(0, test_data.shape[0], batch_size):\n",
        "            x_batch = test_data[batch:batch + batch_size]\n",
        "            y_batch = x_batch.argmax(dim=1).to(device)\n",
        "\n",
        "            y_pred = model(x_batch, embedding_dim)\n",
        "            loss = loss_function(y_pred, y_batch)\n",
        "\n",
        "\n",
        "            test_loss += loss.item() * x_batch.size(0)\n",
        "            predicted_positions = y_pred.argmax(dim=1)\n",
        "            test_correct += (predicted_positions == y_batch).sum().item()\n",
        "            test_total += y_batch.size(0)\n",
        "\n",
        "            # Collect predictions\n",
        "            test_predicted_outcome.append(predicted_positions.detach().cpu().numpy())\n",
        "            test_true_outcome.append(y_batch.detach().cpu().numpy())\n",
        "\n",
        "\n",
        "    avg_test_loss = test_loss / test_total\n",
        "    test_accuracy = test_correct / test_total * 100\n",
        "    test_predicted_outcome = np.concatenate(test_predicted_outcome)\n",
        "    test_true_outcome = np.concatenate(test_true_outcome)\n",
        "\n",
        "    print(\n",
        "        f\"Epoch {epoch+1} | \"\n",
        "        f\"Train Loss: {avg_train_loss:.4f}, Train Acc: {train_accuracy:.2f}% | \"\n",
        "        f\"Test Loss: {avg_test_loss:.4f}, Test Acc: {test_accuracy:.2f}%\"\n",
        "    )"
      ],
      "metadata": {
        "colab": {
          "base_uri": "https://localhost:8080/"
        },
        "id": "HTDMNmy9P26y",
        "outputId": "fb2cf0eb-edc0-4c36-de1e-920f432be97f"
      },
      "execution_count": 30,
      "outputs": [
        {
          "output_type": "stream",
          "name": "stdout",
          "text": [
            "Using device: cuda\n",
            "Epoch 1 | Train Loss: 2.3050, Train Acc: 10.12% | Test Loss: 2.3026, Test Acc: 10.60%\n",
            "Epoch 2 | Train Loss: 2.3036, Train Acc: 10.14% | Test Loss: 2.3029, Test Acc: 10.60%\n",
            "Epoch 3 | Train Loss: 2.3034, Train Acc: 10.10% | Test Loss: 2.3030, Test Acc: 10.60%\n",
            "Epoch 4 | Train Loss: 2.3032, Train Acc: 10.24% | Test Loss: 2.3029, Test Acc: 10.60%\n",
            "Epoch 5 | Train Loss: 2.3013, Train Acc: 10.71% | Test Loss: 2.2887, Test Acc: 11.10%\n",
            "Epoch 6 | Train Loss: 1.0272, Train Acc: 66.96% | Test Loss: 0.1536, Test Acc: 94.55%\n",
            "Epoch 7 | Train Loss: 0.0960, Train Acc: 96.92% | Test Loss: 0.0789, Test Acc: 97.10%\n",
            "Epoch 8 | Train Loss: 0.0590, Train Acc: 98.26% | Test Loss: 0.0550, Test Acc: 98.10%\n",
            "Epoch 9 | Train Loss: 0.0444, Train Acc: 98.70% | Test Loss: 0.0433, Test Acc: 98.35%\n",
            "Epoch 10 | Train Loss: 0.0362, Train Acc: 98.89% | Test Loss: 0.0364, Test Acc: 98.75%\n",
            "Epoch 11 | Train Loss: 0.0307, Train Acc: 98.96% | Test Loss: 0.0318, Test Acc: 98.95%\n",
            "Epoch 12 | Train Loss: 0.0268, Train Acc: 99.05% | Test Loss: 0.0286, Test Acc: 98.95%\n",
            "Epoch 13 | Train Loss: 0.0238, Train Acc: 99.10% | Test Loss: 0.0265, Test Acc: 99.20%\n",
            "Epoch 14 | Train Loss: 0.0215, Train Acc: 99.21% | Test Loss: 0.0249, Test Acc: 99.20%\n",
            "Epoch 15 | Train Loss: 0.0193, Train Acc: 99.24% | Test Loss: 0.0238, Test Acc: 99.20%\n",
            "Epoch 16 | Train Loss: 0.0177, Train Acc: 99.34% | Test Loss: 0.0234, Test Acc: 99.15%\n",
            "Epoch 17 | Train Loss: 0.0165, Train Acc: 99.38% | Test Loss: 0.0228, Test Acc: 99.20%\n",
            "Epoch 18 | Train Loss: 0.0154, Train Acc: 99.38% | Test Loss: 0.0224, Test Acc: 99.20%\n",
            "Epoch 19 | Train Loss: 0.0142, Train Acc: 99.44% | Test Loss: 0.0221, Test Acc: 99.20%\n",
            "Epoch 20 | Train Loss: 0.0133, Train Acc: 99.48% | Test Loss: 0.0213, Test Acc: 99.30%\n"
          ]
        }
      ]
    },
    {
      "cell_type": "code",
      "source": [
        "cm = confusion_matrix(test_true_outcome, test_predicted_outcome)\n",
        "\n",
        "# Plot heatmap\n",
        "plt.figure(figsize=(10, 5))\n",
        "sns.heatmap(cm, annot=True, fmt=\"d\", cmap=\"Blues\", cbar=False)\n",
        "plt.xlabel(\"Predicted argmax position\")\n",
        "plt.ylabel(\"True argmax position\")\n",
        "plt.title(f\"Confusion Matrix Heatmap (input seq_len: {seq_len}; test data accuracy: {round(test_accuracy,2)}%)\")\n",
        "plt.show()"
      ],
      "metadata": {
        "colab": {
          "base_uri": "https://localhost:8080/",
          "height": 487
        },
        "id": "bYQ9tSz91Lm7",
        "outputId": "9cdd2dbb-1813-4359-d97d-4901de232350"
      },
      "execution_count": 31,
      "outputs": [
        {
          "output_type": "display_data",
          "data": {
            "text/plain": [
              "<Figure size 1000x500 with 1 Axes>"
            ],
            "image/png": "[encoded data removed]"
          },
          "metadata": {}
        }
      ]
    },
    {
      "cell_type": "markdown",
      "source": [
        "## Inference\n",
        "\n",
        "Using the trained model to predict the largest number in random test sequences"
      ],
      "metadata": {
        "id": "2DtXjFJwmHl3"
      }
    },
    {
      "cell_type": "code",
      "source": [
        "def run_inference(model, raw_sequence, embedding_dim, seq_len):\n",
        "    model.to(\"cpu\")\n",
        "    model.eval()\n",
        "    with torch.no_grad():\n",
        "        # Prepare input\n",
        "        x = torch.tensor(raw_sequence).unsqueeze(0)  # [1, len]\n",
        "        # Pad/truncate\n",
        "        if x.shape[1] < seq_len:\n",
        "            pad = seq_len - x.shape[1]\n",
        "            x = torch.cat([x, torch.zeros(1, pad)], dim=1)\n",
        "        elif x.shape[1] > seq_len:\n",
        "          print(\"Please input a smaller sequence\")\n",
        "\n",
        "        # Run model\n",
        "        logits = model(x, embedding_dim)\n",
        "        prediction = torch.argmax(logits, dim=1).item()\n",
        "    return prediction\n"
      ],
      "metadata": {
        "id": "fDtDYCbImH_R"
      },
      "execution_count": 34,
      "outputs": []
    },
    {
      "cell_type": "code",
      "source": [
        "for _ in range(10):\n",
        "  test_seq = [np.random.randint(100) for _ in range(seq_len)]\n",
        "  prediction = run_inference(model, test_seq, embedding_dim, seq_len)\n",
        "  print(f\"Largest number in {test_seq} ---> \", test_seq[prediction])"
      ],
      "metadata": {
        "colab": {
          "base_uri": "https://localhost:8080/"
        },
        "id": "X0YbpT7PmINK",
        "outputId": "631a621d-7147-406c-98d6-f43d6ce34263"
      },
      "execution_count": 35,
      "outputs": [
        {
          "output_type": "stream",
          "name": "stdout",
          "text": [
            "Largest number in [56, 19, 32, 65, 78, 38, 22, 21, 22, 74] --->  78\n",
            "Largest number in [35, 71, 12, 91, 81, 44, 6, 68, 68, 10] --->  91\n",
            "Largest number in [47, 59, 29, 16, 38, 34, 5, 22, 13, 37] --->  59\n",
            "Largest number in [40, 73, 68, 16, 39, 97, 65, 47, 67, 71] --->  97\n",
            "Largest number in [28, 70, 0, 20, 47, 55, 36, 32, 64, 30] --->  70\n",
            "Largest number in [52, 94, 97, 2, 34, 5, 68, 64, 46, 88] --->  97\n",
            "Largest number in [90, 37, 18, 19, 45, 3, 21, 56, 13, 6] --->  90\n",
            "Largest number in [58, 99, 90, 87, 9, 76, 93, 31, 54, 29] --->  99\n",
            "Largest number in [64, 50, 95, 35, 41, 87, 49, 76, 7, 29] --->  95\n",
            "Largest number in [58, 31, 16, 33, 16, 2, 41, 58, 16, 98] --->  98\n"
          ]
        }
      ]
    },
    {
      "cell_type": "markdown",
      "source": [
        "## Conclusion\n",
        "\n",
        "In this notebook, we implemented the **self-attention mechanism from scratch** to solve a simple yet insightful task: identifying the **position of the largest number in a sequence**.\n",
        "\n",
        "The model achieved a **test accuracy of 99.3%**, correctly predicting the position of the maximum value in nearly all test sequences. This strong performance highlights how even a minimal self-attention network can effectively learn to focus on the most relevant parts of an input — without requiring deep architectures or extensive tuning.\n",
        "\n",
        "We also tested the trained model on multiple **random sequences**, and it consistently predicted the correct position of the maximum value, further demonstrating its generalization ability.\n",
        "\n",
        "This experiment offers an intuitive, hands-on understanding of **how self-attention works**, and why it's such a powerful concept. The ability to dynamically assign importance to different input elements is a foundational feature of the **Transformer architecture** — the core behind today’s most advanced models in NLP and beyond.\n"
      ],
      "metadata": {
        "id": "6Z6e4F8bYZXm"
      }
    },
    {
      "cell_type": "code",
      "source": [],
      "metadata": {
        "id": "t2mjxlQD1Lpq"
      },
      "execution_count": 33,
      "outputs": []
    },
    {
      "cell_type": "code",
      "source": [],
      "metadata": {
        "id": "ejVypR4t1Lse"
      },
      "execution_count": 33,
      "outputs": []
    },
    {
      "cell_type": "code",
      "source": [],
      "metadata": {
        "id": "SD7Ww14F1Lu3"
      },
      "execution_count": 33,
      "outputs": []
    },
    {
      "cell_type": "code",
      "source": [],
      "metadata": {
        "id": "TAY7wvKC1Lyw"
      },
      "execution_count": 33,
      "outputs": []
    },
    {
      "cell_type": "code",
      "source": [],
      "metadata": {
        "id": "KVJc9Kcg1L2W"
      },
      "execution_count": 33,
      "outputs": []
    }
  ]
}
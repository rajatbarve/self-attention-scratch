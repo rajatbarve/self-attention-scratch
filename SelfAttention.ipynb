{
  "nbformat": 4,
  "nbformat_minor": 0,
  "metadata": {
    "colab": {
      "provenance": [],
      "gpuType": "T4"
    },
    "kernelspec": {
      "name": "python3",
      "display_name": "Python 3"
    },
    "language_info": {
      "name": "python"
    },
    "accelerator": "GPU"
  },
  "cells": [
    {
      "cell_type": "code",
      "execution_count": 40,
      "metadata": {
        "id": "5RIOwwKAPy7X"
      },
      "outputs": [],
      "source": []
    },
    {
      "cell_type": "markdown",
      "source": [
        "# Self-Attention from Scratch: Finding the Largest Number in a Sequence\n",
        "\n",
        "This notebook demonstrates a from-scratch implementation of the **self-attention mechanism** (the core of Transformer architectures) to solve a simple but illustrative task: identifying the **largest number** in a numerical sequence.\n",
        "\n",
        "---\n",
        "\n",
        "### Self-Attention Overview\n",
        "\n",
        "Self-attention allows a model to dynamically weigh the importance of each element in a sequence **in the context of the entire sequence**. For each token (in this case, each number), the model computes:\n",
        "\n",
        "- A **query**: representing the question \"What am I looking for?\"\n",
        "- A **key**: representing \"What do I offer?\"\n",
        "- A **value**: the information carried by the token.\n",
        "\n",
        "Attention weights are calculated by taking scaled dot-products between queries and keys. These weights are then used to combine the values — giving more influence to elements considered more relevant.\n",
        "\n",
        "---\n",
        "\n",
        "### Why This Works for Finding the Maximum\n",
        "\n",
        "Although the model has no hard-coded notion of \"greater than\", it learns to **internally represent and compare magnitudes** through the training process.\n",
        "\n",
        "Here's the intuition:\n",
        "\n",
        "- During training, the model repeatedly sees sequences where the label is **the index of the maximum number**.\n",
        "- To minimize loss, the model must produce an output where that position gets the highest final score.\n",
        "- Through backpropagation, it adjusts its internal weights so that:\n",
        "  - **Larger input values produce stronger key and value representations**.\n",
        "  - **Queries learn to “seek” high-magnitude patterns** across the sequence.\n",
        "- The attention mechanism then amplifies contributions from large values — effectively letting the model **\"focus on the biggest number\"** regardless of its position in the sequence.\n",
        "- The final feed-forward layers pick up on this focused representation and translate it into a position prediction.\n",
        "\n",
        "In essence, the model transforms numeric comparison into a **learned attention pattern** — using dot-product similarity to approximate magnitude-based relevance.\n",
        "\n",
        "---\n",
        "\n",
        "### Key Steps in the Pipeline\n",
        "\n",
        "- Generate sequences of fixed length (`seq_len`) with random numbers _(in this example, `seq_len` is kept in the range [6,15] and every number in each sequence is in the range [0,1000])_.\n",
        "- Normalize each sequence to ensure scale consistency.\n",
        "- Embed scalar inputs into dense vectors.\n",
        "- Compute self-attention using queries, keys, and values.\n",
        "- Aggregate contextual information using attention weights.\n",
        "- Use a feed-forward network to map the attended representation to a position index.\n",
        "- Train and evaluate the model on randomly generated sequences.\n",
        "- Visualize performance (e.g., using a confusion matrix).\n",
        "\n",
        "---\n",
        "\n",
        "### Final Notes\n",
        "\n",
        "This project offers an intuitive, hands-on look at how **attention-based architectures** work — even outside of language modeling. While the task here is simple, the underlying mechanism is the same as in modern Transformers: **learn what to pay attention to** in order to solve a task.\n",
        "\n",
        "Despite the simplicity of the model, we achieve **high accuracy without any explicit comparison logic** — a clear demonstration of how self-attention learns to capture patterns based on context and structure.\n",
        "\n",
        "> _Note: This model is not optimized for performance. The focus here is educational — to demystify the mechanics of self-attention and show how it can generalize beyond text-based applications._\n"
      ],
      "metadata": {
        "id": "1HuzR8uT362b"
      }
    },
    {
      "cell_type": "code",
      "source": [
        "import pandas as pd\n",
        "import numpy as np\n",
        "import torch\n",
        "import torch.nn as nn\n",
        "import torch.optim as optim\n",
        "\n",
        "import matplotlib.pyplot as plt\n",
        "import seaborn as sns\n",
        "from sklearn.metrics import confusion_matrix"
      ],
      "metadata": {
        "id": "K8mQxxpM34cM"
      },
      "execution_count": 41,
      "outputs": []
    },
    {
      "cell_type": "code",
      "source": [
        "seq_len = np.random.randint(6,15)\n",
        "print(f\"seq_len: {seq_len}\")"
      ],
      "metadata": {
        "colab": {
          "base_uri": "https://localhost:8080/"
        },
        "id": "qYNd-HYmP2k7",
        "outputId": "33c6c76c-7b88-425a-cb90-1a1564465abb"
      },
      "execution_count": 42,
      "outputs": [
        {
          "output_type": "stream",
          "name": "stdout",
          "text": [
            "seq_len: 10\n"
          ]
        }
      ]
    },
    {
      "cell_type": "code",
      "source": [
        "train_samples = 10000\n",
        "train_data_input = torch.Tensor([[np.random.randint(1000) for _ in range(seq_len)] for _ in range(train_samples)])"
      ],
      "metadata": {
        "id": "R-WeNITuP2qM"
      },
      "execution_count": 43,
      "outputs": []
    },
    {
      "cell_type": "code",
      "source": [
        "train_data_input"
      ],
      "metadata": {
        "colab": {
          "base_uri": "https://localhost:8080/"
        },
        "id": "VZwPtr9WP2tx",
        "outputId": "c2e44022-73b2-4457-b60a-fb46ffa8b759"
      },
      "execution_count": 44,
      "outputs": [
        {
          "output_type": "execute_result",
          "data": {
            "text/plain": [
              "tensor([[965., 876.,  28.,  ..., 515., 574., 905.],\n",
              "        [ 45., 202., 846.,  ..., 939., 753.,  61.],\n",
              "        [879., 965., 819.,  ..., 342., 220., 170.],\n",
              "        ...,\n",
              "        [526., 482., 110.,  ..., 116., 979., 842.],\n",
              "        [260., 267., 644.,  ..., 344., 308., 634.],\n",
              "        [511., 408., 605.,  ...,  41., 236., 771.]])"
            ]
          },
          "metadata": {},
          "execution_count": 44
        }
      ]
    },
    {
      "cell_type": "code",
      "source": [
        "class SelfAttentionMaximizer(nn.Module):\n",
        "  def __init__(self, embedding_dim, seq_len):\n",
        "    super().__init__()\n",
        "    self.input_embed = nn.Linear(1, embedding_dim)\n",
        "    self.w_q = nn.Linear(embedding_dim, embedding_dim)\n",
        "    self.w_k = nn.Linear(embedding_dim, embedding_dim)\n",
        "    self.w_v = nn.Linear(embedding_dim, embedding_dim)\n",
        "    self.ffn1 = nn.Linear(embedding_dim*seq_len, 32)\n",
        "    self.ffn2 = nn.ReLU()\n",
        "    self.output_layer = nn.Linear(32, seq_len)\n",
        "\n",
        "\n",
        "  def forward(self, x, embedding_dim):\n",
        "    # normalize inputs\n",
        "    x = (x - x.min(dim=1, keepdim=True)[0]) / (x.max(dim=1, keepdim=True)[0] - x.min(dim=1, keepdim=True)[0] + 1e-6)\n",
        "\n",
        "    # convert each number (\"token\") to a dense embedding vector\n",
        "    embedded_input = self.input_embed(x.unsqueeze(-1).float())\n",
        "\n",
        "    # get query, key, value vectors for each token\n",
        "    q = self.w_q(embedded_input) # shape (batch_size, seq_len, embedding_dim)\n",
        "    k = self.w_k(embedded_input)\n",
        "    v = self.w_v(embedded_input)\n",
        "\n",
        "    # scale and normalize to weight\n",
        "    raw_attention_weight = torch.matmul(q, k.transpose(-2,-1))\n",
        "    attention = torch.softmax(raw_attention_weight/embedding_dim**0.5, dim=-1)\n",
        "\n",
        "    output = torch.matmul(attention, v) # shape (batch_size, seq_len, embedding_dim)\n",
        "\n",
        "    # Pass through FFN and get prediction\n",
        "    x = output.view(output.shape[0], -1) # flatten (_,seq_len,embedding_dim)\n",
        "    x = self.ffn1(x)\n",
        "    x = self.ffn2(x)\n",
        "\n",
        "    predicted_position_logits = self.output_layer(x)\n",
        "\n",
        "    return predicted_position_logits\n",
        "\n",
        "  def compute_loss(self, y_pred, y_true):\n",
        "    criterion = nn.CrossEntropyLoss()\n",
        "    loss = criterion(y_pred, y_true)\n",
        "    return loss\n",
        "\n",
        "\n"
      ],
      "metadata": {
        "id": "fbx9ggTVP2yC"
      },
      "execution_count": 45,
      "outputs": []
    },
    {
      "cell_type": "code",
      "source": [],
      "metadata": {
        "id": "bviKl1mNP21J"
      },
      "execution_count": 45,
      "outputs": []
    },
    {
      "cell_type": "code",
      "source": [
        "# TRAINING AND TESTING LOOP\n",
        "\n",
        "batch_size = 32\n",
        "num_epochs = 20\n",
        "embedding_dim = 3\n",
        "\n",
        "device = torch.device(\"cuda\" if torch.cuda.is_available() else \"cpu\")\n",
        "print(f\"Using device: {device}\")\n",
        "\n",
        "# train-test split\n",
        "dataset_size = train_data_input.shape[0]\n",
        "train_size = int(0.8 * dataset_size)\n",
        "test_size = dataset_size - train_size\n",
        "indices = torch.randperm(dataset_size)\n",
        "train_indices = indices[:train_size]\n",
        "test_indices = indices[train_size:]\n",
        "\n",
        "train_data = train_data_input[train_indices].to(device)\n",
        "test_data = train_data_input[test_indices].to(device)\n",
        "\n",
        "model = SelfAttentionMaximizer(embedding_dim, seq_len).to(device)\n",
        "optimizer = optim.Adam(model.parameters(), lr=0.001)\n",
        "\n",
        "for epoch in range(num_epochs):\n",
        "    # ---- Training ----\n",
        "    model.train()\n",
        "    train_loss = 0.0\n",
        "    train_correct = 0\n",
        "    train_total = 0\n",
        "    train_predicted_outcome = []\n",
        "\n",
        "    for batch in range(0, train_data.shape[0], batch_size):\n",
        "        x_batch = train_data[batch:batch + batch_size]\n",
        "        y_batch = x_batch.argmax(dim=1).to(device)\n",
        "\n",
        "        optimizer.zero_grad()\n",
        "        y_pred = model(x_batch, embedding_dim)\n",
        "        loss = model.compute_loss(y_pred, y_batch)\n",
        "        loss.backward()\n",
        "        optimizer.step()\n",
        "\n",
        "        train_loss += loss.item() * x_batch.size(0)\n",
        "        predicted_positions = y_pred.argmax(dim=1)\n",
        "        train_correct += (predicted_positions == y_batch).sum().item()\n",
        "        train_total += y_batch.size(0)\n",
        "\n",
        "        # Collect predictions\n",
        "        train_predicted_outcome.append(predicted_positions.detach().cpu().numpy())\n",
        "\n",
        "    avg_train_loss = train_loss / train_total\n",
        "    train_accuracy = train_correct / train_total * 100\n",
        "    train_predicted_outcome = np.concatenate(train_predicted_outcome)\n",
        "\n",
        "    # ---- Testing ----\n",
        "    model.eval()\n",
        "    test_loss = 0.0\n",
        "    test_correct = 0\n",
        "    test_total = 0\n",
        "    test_predicted_outcome = []\n",
        "    test_true_outcome = []\n",
        "\n",
        "    with torch.no_grad():\n",
        "        for batch in range(0, test_data.shape[0], batch_size):\n",
        "            x_batch = test_data[batch:batch + batch_size]\n",
        "            y_batch = x_batch.argmax(dim=1).to(device)\n",
        "\n",
        "            y_pred = model(x_batch, embedding_dim)\n",
        "            loss = model.compute_loss(y_pred, y_batch)\n",
        "\n",
        "            test_loss += loss.item() * x_batch.size(0)\n",
        "            predicted_positions = y_pred.argmax(dim=1)\n",
        "            test_correct += (predicted_positions == y_batch).sum().item()\n",
        "            test_total += y_batch.size(0)\n",
        "\n",
        "            # Collect predictions\n",
        "            test_predicted_outcome.append(predicted_positions.detach().cpu().numpy())\n",
        "            test_true_outcome.append(y_batch.detach().cpu().numpy())\n",
        "\n",
        "\n",
        "    avg_test_loss = test_loss / test_total\n",
        "    test_accuracy = test_correct / test_total * 100\n",
        "    test_predicted_outcome = np.concatenate(test_predicted_outcome)\n",
        "    test_true_outcome = np.concatenate(test_true_outcome)\n",
        "\n",
        "    print(\n",
        "        f\"Epoch {epoch+1} | \"\n",
        "        f\"Train Loss: {avg_train_loss:.4f}, Train Acc: {train_accuracy:.2f}% | \"\n",
        "        f\"Test Loss: {avg_test_loss:.4f}, Test Acc: {test_accuracy:.2f}%\"\n",
        "    )"
      ],
      "metadata": {
        "colab": {
          "base_uri": "https://localhost:8080/"
        },
        "id": "HTDMNmy9P26y",
        "outputId": "1ef98857-42b3-4fde-f949-e37a8123e928"
      },
      "execution_count": 46,
      "outputs": [
        {
          "output_type": "stream",
          "name": "stdout",
          "text": [
            "Using device: cuda\n",
            "Epoch 1 | Train Loss: 2.3046, Train Acc: 9.72% | Test Loss: 2.3032, Test Acc: 9.90%\n",
            "Epoch 2 | Train Loss: 2.3026, Train Acc: 10.40% | Test Loss: 2.3001, Test Acc: 10.40%\n",
            "Epoch 3 | Train Loss: 1.9228, Train Acc: 35.23% | Test Loss: 0.7432, Test Acc: 79.00%\n",
            "Epoch 4 | Train Loss: 0.2509, Train Acc: 94.16% | Test Loss: 0.1160, Test Acc: 97.10%\n",
            "Epoch 5 | Train Loss: 0.0847, Train Acc: 98.06% | Test Loss: 0.0685, Test Acc: 98.50%\n",
            "Epoch 6 | Train Loss: 0.0564, Train Acc: 98.70% | Test Loss: 0.0495, Test Acc: 98.75%\n",
            "Epoch 7 | Train Loss: 0.0431, Train Acc: 98.91% | Test Loss: 0.0390, Test Acc: 98.95%\n",
            "Epoch 8 | Train Loss: 0.0352, Train Acc: 99.00% | Test Loss: 0.0322, Test Acc: 99.20%\n",
            "Epoch 9 | Train Loss: 0.0298, Train Acc: 99.08% | Test Loss: 0.0274, Test Acc: 99.30%\n",
            "Epoch 10 | Train Loss: 0.0259, Train Acc: 99.17% | Test Loss: 0.0239, Test Acc: 99.40%\n",
            "Epoch 11 | Train Loss: 0.0229, Train Acc: 99.28% | Test Loss: 0.0213, Test Acc: 99.50%\n",
            "Epoch 12 | Train Loss: 0.0206, Train Acc: 99.35% | Test Loss: 0.0189, Test Acc: 99.50%\n",
            "Epoch 13 | Train Loss: 0.0186, Train Acc: 99.42% | Test Loss: 0.0172, Test Acc: 99.55%\n",
            "Epoch 14 | Train Loss: 0.0169, Train Acc: 99.48% | Test Loss: 0.0157, Test Acc: 99.55%\n",
            "Epoch 15 | Train Loss: 0.0156, Train Acc: 99.54% | Test Loss: 0.0146, Test Acc: 99.50%\n",
            "Epoch 16 | Train Loss: 0.0145, Train Acc: 99.56% | Test Loss: 0.0136, Test Acc: 99.50%\n",
            "Epoch 17 | Train Loss: 0.0135, Train Acc: 99.56% | Test Loss: 0.0126, Test Acc: 99.55%\n",
            "Epoch 18 | Train Loss: 0.0124, Train Acc: 99.64% | Test Loss: 0.0118, Test Acc: 99.50%\n",
            "Epoch 19 | Train Loss: 0.0115, Train Acc: 99.70% | Test Loss: 0.0113, Test Acc: 99.50%\n",
            "Epoch 20 | Train Loss: 0.0107, Train Acc: 99.70% | Test Loss: 0.0107, Test Acc: 99.65%\n"
          ]
        }
      ]
    },
    {
      "cell_type": "code",
      "source": [
        "cm = confusion_matrix(test_true_outcome, test_predicted_outcome)\n",
        "\n",
        "# Plot heatmap\n",
        "plt.figure(figsize=(15, 7))\n",
        "sns.heatmap(cm, annot=True, fmt=\"d\", cmap=\"Blues\", cbar=False)\n",
        "plt.xlabel(\"Predicted argmax position\")\n",
        "plt.ylabel(\"True argmax position\")\n",
        "plt.title(f\"Confusion Matrix Heatmap (input seq_len: {seq_len}; test data accuracy: {round(test_accuracy,2)}%)\")\n",
        "plt.show()"
      ],
      "metadata": {
        "colab": {
          "base_uri": "https://localhost:8080/",
          "height": 606
        },
        "id": "bYQ9tSz91Lm7",
        "outputId": "1f40f980-0bd2-4249-d60c-0c14b5fbf1bf"
      },
      "execution_count": 47,
      "outputs": [
        {
          "output_type": "display_data",
          "data": {
            "text/plain": [
              "<Figure size 1500x700 with 1 Axes>"
            ],
            "image/png": "[encoded data removed]"
          },
          "metadata": {}
        }
      ]
    },
    {
      "cell_type": "markdown",
      "source": [
        "## Inference\n",
        "\n",
        "Using the trained model to predict the largest number in random test sequences"
      ],
      "metadata": {
        "id": "2DtXjFJwmHl3"
      }
    },
    {
      "cell_type": "code",
      "source": [
        "def run_inference(model, raw_sequence, embedding_dim, seq_len):\n",
        "    model.to(\"cpu\")\n",
        "    model.eval()\n",
        "    with torch.no_grad():\n",
        "        # Prepare input\n",
        "        x = torch.tensor(raw_sequence).unsqueeze(0)  # [1, len]\n",
        "        # Pad/truncate\n",
        "        if x.shape[1] < seq_len:\n",
        "            pad = seq_len - x.shape[1]\n",
        "            x = torch.cat([x, torch.zeros(1, pad)], dim=1)\n",
        "        elif x.shape[1] > seq_len:\n",
        "          print(\"Please input a smaller sequence\")\n",
        "\n",
        "        # Run model\n",
        "        logits = model(x, embedding_dim)\n",
        "        prediction = torch.argmax(logits, dim=1).item()\n",
        "    return prediction\n"
      ],
      "metadata": {
        "id": "fDtDYCbImH_R"
      },
      "execution_count": 48,
      "outputs": []
    },
    {
      "cell_type": "code",
      "source": [
        "for _ in range(10):\n",
        "  test_seq = [np.random.randint(100) for _ in range(seq_len)]\n",
        "  prediction = run_inference(model, test_seq, embedding_dim, seq_len)\n",
        "  print(f\"Largest number in {test_seq} ---> \", test_seq[prediction])"
      ],
      "metadata": {
        "colab": {
          "base_uri": "https://localhost:8080/"
        },
        "id": "X0YbpT7PmINK",
        "outputId": "6149634f-cf04-49ef-ad2b-0792f91d57b9"
      },
      "execution_count": 52,
      "outputs": [
        {
          "output_type": "stream",
          "name": "stdout",
          "text": [
            "Largest number in [60, 8, 90, 98, 59, 79, 8, 17, 54, 54] --->  98\n",
            "Largest number in [49, 46, 34, 28, 68, 73, 29, 4, 59, 31] --->  73\n",
            "Largest number in [75, 16, 5, 1, 16, 26, 30, 64, 10, 60] --->  75\n",
            "Largest number in [68, 1, 52, 84, 33, 19, 69, 77, 28, 17] --->  84\n",
            "Largest number in [9, 82, 64, 6, 9, 70, 79, 77, 45, 54] --->  82\n",
            "Largest number in [82, 17, 82, 91, 95, 2, 75, 26, 32, 45] --->  95\n",
            "Largest number in [8, 69, 94, 97, 13, 6, 6, 26, 4, 49] --->  97\n",
            "Largest number in [93, 18, 25, 49, 57, 88, 81, 43, 15, 65] --->  93\n",
            "Largest number in [43, 36, 1, 41, 81, 99, 65, 87, 92, 15] --->  99\n",
            "Largest number in [60, 7, 11, 83, 90, 35, 93, 61, 55, 47] --->  93\n"
          ]
        }
      ]
    },
    {
      "cell_type": "markdown",
      "source": [
        "## Conclusion\n",
        "\n",
        "In this notebook, we implemented the **self-attention mechanism from scratch** to solve a simple yet insightful task: identifying the **position of the largest number in a sequence**.\n",
        "\n",
        "The model achieved a **test accuracy of 99.65%**, correctly predicting the position of the maximum value in nearly all test sequences. This strong performance highlights how even a minimal self-attention network can effectively learn to focus on the most relevant parts of an input — without requiring deep architectures or extensive tuning.\n",
        "\n",
        "We also tested the trained model on multiple **random sequences**, and it consistently predicted the correct position of the maximum value, further demonstrating its generalization ability.\n",
        "\n",
        "This experiment offers an intuitive, hands-on understanding of **how self-attention works**, and why it's such a powerful concept. The ability to dynamically assign importance to different input elements is a foundational feature of the **Transformer architecture** — the core behind today’s most advanced models in NLP and beyond.\n"
      ],
      "metadata": {
        "id": "6Z6e4F8bYZXm"
      }
    },
    {
      "cell_type": "code",
      "source": [],
      "metadata": {
        "id": "t2mjxlQD1Lpq"
      },
      "execution_count": 49,
      "outputs": []
    },
    {
      "cell_type": "code",
      "source": [],
      "metadata": {
        "id": "ejVypR4t1Lse"
      },
      "execution_count": 49,
      "outputs": []
    },
    {
      "cell_type": "code",
      "source": [],
      "metadata": {
        "id": "SD7Ww14F1Lu3"
      },
      "execution_count": 49,
      "outputs": []
    },
    {
      "cell_type": "code",
      "source": [],
      "metadata": {
        "id": "TAY7wvKC1Lyw"
      },
      "execution_count": 49,
      "outputs": []
    },
    {
      "cell_type": "code",
      "source": [],
      "metadata": {
        "id": "KVJc9Kcg1L2W"
      },
      "execution_count": 49,
      "outputs": []
    }
  ]
}
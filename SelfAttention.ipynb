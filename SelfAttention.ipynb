{
  "nbformat": 4,
  "nbformat_minor": 0,
  "metadata": {
    "colab": {
      "provenance": [],
      "gpuType": "T4"
    },
    "kernelspec": {
      "name": "python3",
      "display_name": "Python 3"
    },
    "language_info": {
      "name": "python"
    },
    "accelerator": "GPU"
  },
  "cells": [
    {
      "cell_type": "code",
      "execution_count": 38,
      "metadata": {
        "id": "5RIOwwKAPy7X"
      },
      "outputs": [],
      "source": []
    },
    {
      "cell_type": "markdown",
      "source": [
        "# Self-Attention from Scratch: Finding the Largest Number in a Sequence\n",
        "\n",
        "This notebook is a simple implementation of a **self-attention**-based neural network from scratch (the core mechanism behind Transformers) to identify the position of the largest number in a sequence.\n",
        "\n",
        "**Self-Attention Overview:**  \n",
        "Self-attention is a mechanism that allows a model to weigh the importance of each element in a sequence relative to others. For each number in the sequence, the model computes **queries, keys, and values** and uses them to calculate attention weights, effectively “deciding” which numbers to focus on when making a prediction.\n",
        "\n",
        "**Why This Works for Finding the Maximum:**  \n",
        "The model can learn to assign higher attention to larger numbers because, in each sequence, the goal is to identify the position of the largest value. Through training, the network adjusts its embeddings and attention weights so that the number with the greatest magnitude gets the strongest signal, allowing the final feed-forward layers to correctly predict its position.\n",
        "\n",
        "Key steps include:\n",
        "- Selecting a random length for input sequence (`seq_len`) and generating `train_samples` of this length.\n",
        "- Normalizing input sequences and embedding each number into a dense vector.\n",
        "- Computing query, key, and value vectors for self-attention.\n",
        "- Calculating attention weights via the scaled dot-product mechanism.\n",
        "- Using a feed-forward network to predict the position of the maximum number.\n",
        "- Training and evaluating the model with randomly generated sequences, and visualizing results using a confusion matrix.\n",
        "\n",
        "This project provides an intuitive, hands-on introduction to how attention mechanisms allow models to focus on important elements within sequences.\n",
        "\n",
        "**Note:** _This model has not been optimized for performance; its purpose is to demonstrate how the self-attention mechanism works in a generalizable way and how it can be applied outside of the Transformer context—and even without fine-tuning, we observe good performance on the test data._\n"
      ],
      "metadata": {
        "id": "1HuzR8uT362b"
      }
    },
    {
      "cell_type": "code",
      "source": [
        "import pandas as pd\n",
        "import numpy as np\n",
        "import torch\n",
        "import torch.nn as nn\n",
        "import torch.optim as optim\n",
        "\n",
        "import matplotlib.pyplot as plt\n",
        "import seaborn as sns\n",
        "from sklearn.metrics import confusion_matrix"
      ],
      "metadata": {
        "id": "K8mQxxpM34cM"
      },
      "execution_count": 39,
      "outputs": []
    },
    {
      "cell_type": "code",
      "source": [
        "seq_len = np.random.randint(10,30)\n",
        "print(f\"seq_len: {seq_len}\")"
      ],
      "metadata": {
        "colab": {
          "base_uri": "https://localhost:8080/"
        },
        "id": "qYNd-HYmP2k7",
        "outputId": "c0241dc8-411e-4be6-d935-d3734fe61911"
      },
      "execution_count": 40,
      "outputs": [
        {
          "output_type": "stream",
          "name": "stdout",
          "text": [
            "seq_len: 13\n"
          ]
        }
      ]
    },
    {
      "cell_type": "code",
      "source": [
        "train_samples = 10000\n",
        "train_data_input = torch.Tensor([[np.random.randint(1000) for _ in range(seq_len)] for _ in range(train_samples)])"
      ],
      "metadata": {
        "id": "R-WeNITuP2qM"
      },
      "execution_count": 41,
      "outputs": []
    },
    {
      "cell_type": "code",
      "source": [
        "train_data_input"
      ],
      "metadata": {
        "colab": {
          "base_uri": "https://localhost:8080/"
        },
        "id": "VZwPtr9WP2tx",
        "outputId": "1b5c18a8-b4ad-4bb2-81c6-2d338178f360"
      },
      "execution_count": 42,
      "outputs": [
        {
          "output_type": "execute_result",
          "data": {
            "text/plain": [
              "tensor([[956., 520.,  91.,  ..., 705., 470., 795.],\n",
              "        [802., 601., 798.,  ..., 600., 290., 699.],\n",
              "        [526., 969., 233.,  ..., 870., 686., 933.],\n",
              "        ...,\n",
              "        [ 17., 929., 774.,  ..., 514., 567., 542.],\n",
              "        [390., 988., 161.,  ..., 535., 234., 642.],\n",
              "        [338., 867., 285.,  ..., 970., 787., 139.]])"
            ]
          },
          "metadata": {},
          "execution_count": 42
        }
      ]
    },
    {
      "cell_type": "code",
      "source": [
        "class SelfAttentionMaximizer(nn.Module):\n",
        "  def __init__(self, embedding_dim, seq_len):\n",
        "    super().__init__()\n",
        "    self.input_embed = nn.Linear(1, embedding_dim)\n",
        "    self.w_q = nn.Linear(embedding_dim, embedding_dim)\n",
        "    self.w_k = nn.Linear(embedding_dim, embedding_dim)\n",
        "    self.w_v = nn.Linear(embedding_dim, embedding_dim)\n",
        "    self.ffn1 = nn.Linear(embedding_dim*seq_len, 32)\n",
        "    self.ffn2 = nn.ReLU()\n",
        "    self.output_layer = nn.Linear(32, seq_len)\n",
        "\n",
        "\n",
        "  def forward(self, x, embedding_dim):\n",
        "    # normalize inputs\n",
        "    x = (x - x.min(dim=1, keepdim=True)[0]) / (x.max(dim=1, keepdim=True)[0] - x.min(dim=1, keepdim=True)[0] + 1e-6)\n",
        "\n",
        "    # convert each number (\"token\") to a dense embedding vector\n",
        "    embedded_input = self.input_embed(x.unsqueeze(-1).float())\n",
        "\n",
        "    # get query, key, value vectors for each token\n",
        "    q = self.w_q(embedded_input) # shape (batch_size, seq_len, embedding_dim)\n",
        "    k = self.w_k(embedded_input)\n",
        "    v = self.w_v(embedded_input)\n",
        "\n",
        "    # scale and normalize to weight\n",
        "    raw_attention_weight = torch.matmul(q, k.transpose(-2,-1))\n",
        "    attention = torch.softmax(raw_attention_weight/embedding_dim**0.5, dim=-1)\n",
        "\n",
        "    output = torch.matmul(attention, v) # shape (batch_size, seq_len, embedding_dim)\n",
        "\n",
        "    # Pass through FFN and get prediction\n",
        "    x = output.view(output.shape[0], -1) # flatten (_,seq_len,embedding_dim)\n",
        "    x = self.ffn1(x)\n",
        "    x = self.ffn2(x)\n",
        "\n",
        "    predicted_position_logits = self.output_layer(x)\n",
        "\n",
        "    return predicted_position_logits\n",
        "\n",
        "  def compute_loss(self, y_pred, y_true):\n",
        "    criterion = nn.CrossEntropyLoss()\n",
        "    loss = criterion(y_pred, y_true)\n",
        "    return loss\n",
        "\n",
        "\n"
      ],
      "metadata": {
        "id": "fbx9ggTVP2yC"
      },
      "execution_count": 43,
      "outputs": []
    },
    {
      "cell_type": "code",
      "source": [],
      "metadata": {
        "id": "bviKl1mNP21J"
      },
      "execution_count": 43,
      "outputs": []
    },
    {
      "cell_type": "code",
      "source": [
        "# TRAINING AND TESTING LOOP\n",
        "\n",
        "batch_size = 32\n",
        "num_epochs = 20\n",
        "embedding_dim = 3\n",
        "\n",
        "device = torch.device(\"cuda\" if torch.cuda.is_available() else \"cpu\")\n",
        "print(f\"Using device: {device}\")\n",
        "\n",
        "# train-test split\n",
        "dataset_size = train_data_input.shape[0]\n",
        "train_size = int(0.8 * dataset_size)\n",
        "test_size = dataset_size - train_size\n",
        "indices = torch.randperm(dataset_size)\n",
        "train_indices = indices[:train_size]\n",
        "test_indices = indices[train_size:]\n",
        "\n",
        "train_data = train_data_input[train_indices].to(device)\n",
        "test_data = train_data_input[test_indices].to(device)\n",
        "\n",
        "model = SelfAttentionMaximizer(embedding_dim, seq_len).to(device)\n",
        "optimizer = optim.Adam(model.parameters(), lr=0.001)\n",
        "\n",
        "for epoch in range(num_epochs):\n",
        "    # ---- Training ----\n",
        "    model.train()\n",
        "    train_loss = 0.0\n",
        "    train_correct = 0\n",
        "    train_total = 0\n",
        "    train_predicted_outcome = []\n",
        "\n",
        "    for batch in range(0, train_data.shape[0], batch_size):\n",
        "        x_batch = train_data[batch:batch + batch_size]\n",
        "        y_batch = x_batch.argmax(dim=1).to(device)\n",
        "\n",
        "        optimizer.zero_grad()\n",
        "        y_pred = model(x_batch, embedding_dim)\n",
        "        loss = model.compute_loss(y_pred, y_batch)\n",
        "        loss.backward()\n",
        "        optimizer.step()\n",
        "\n",
        "        train_loss += loss.item() * x_batch.size(0)\n",
        "        predicted_positions = y_pred.argmax(dim=1)\n",
        "        train_correct += (predicted_positions == y_batch).sum().item()\n",
        "        train_total += y_batch.size(0)\n",
        "\n",
        "        # Collect predictions\n",
        "        train_predicted_outcome.append(predicted_positions.detach().cpu().numpy())\n",
        "\n",
        "    avg_train_loss = train_loss / train_total\n",
        "    train_accuracy = train_correct / train_total * 100\n",
        "    train_predicted_outcome = np.concatenate(train_predicted_outcome)\n",
        "\n",
        "    # ---- Testing ----\n",
        "    model.eval()\n",
        "    test_loss = 0.0\n",
        "    test_correct = 0\n",
        "    test_total = 0\n",
        "    test_predicted_outcome = []\n",
        "    test_true_outcome = []\n",
        "\n",
        "    with torch.no_grad():\n",
        "        for batch in range(0, test_data.shape[0], batch_size):\n",
        "            x_batch = test_data[batch:batch + batch_size]\n",
        "            y_batch = x_batch.argmax(dim=1).to(device)\n",
        "\n",
        "            y_pred = model(x_batch, embedding_dim)\n",
        "            loss = model.compute_loss(y_pred, y_batch)\n",
        "\n",
        "            test_loss += loss.item() * x_batch.size(0)\n",
        "            predicted_positions = y_pred.argmax(dim=1)\n",
        "            test_correct += (predicted_positions == y_batch).sum().item()\n",
        "            test_total += y_batch.size(0)\n",
        "\n",
        "            # Collect predictions\n",
        "            test_predicted_outcome.append(predicted_positions.detach().cpu().numpy())\n",
        "            test_true_outcome.append(y_batch.detach().cpu().numpy())\n",
        "\n",
        "\n",
        "    avg_test_loss = test_loss / test_total\n",
        "    test_accuracy = test_correct / test_total * 100\n",
        "    test_predicted_outcome = np.concatenate(test_predicted_outcome)\n",
        "    test_true_outcome = np.concatenate(test_true_outcome)\n",
        "\n",
        "    print(\n",
        "        f\"Epoch {epoch+1} | \"\n",
        "        f\"Train Loss: {avg_train_loss:.4f}, Train Acc: {train_accuracy:.2f}% | \"\n",
        "        f\"Test Loss: {avg_test_loss:.4f}, Test Acc: {test_accuracy:.2f}%\"\n",
        "    )"
      ],
      "metadata": {
        "colab": {
          "base_uri": "https://localhost:8080/"
        },
        "id": "HTDMNmy9P26y",
        "outputId": "925c5841-8bd9-4a47-ee8f-d31764ee0352"
      },
      "execution_count": 44,
      "outputs": [
        {
          "output_type": "stream",
          "name": "stdout",
          "text": [
            "Using device: cuda\n",
            "Epoch 1 | Train Loss: 2.5663, Train Acc: 8.04% | Test Loss: 2.5648, Test Acc: 7.55%\n",
            "Epoch 2 | Train Loss: 2.5627, Train Acc: 8.75% | Test Loss: 2.5593, Test Acc: 8.15%\n",
            "Epoch 3 | Train Loss: 2.4508, Train Acc: 16.45% | Test Loss: 1.8596, Test Acc: 37.10%\n",
            "Epoch 4 | Train Loss: 0.6647, Train Acc: 78.20% | Test Loss: 0.2479, Test Acc: 92.15%\n",
            "Epoch 5 | Train Loss: 0.1738, Train Acc: 94.60% | Test Loss: 0.1407, Test Acc: 95.40%\n",
            "Epoch 6 | Train Loss: 0.1120, Train Acc: 96.53% | Test Loss: 0.1059, Test Acc: 96.65%\n",
            "Epoch 7 | Train Loss: 0.0848, Train Acc: 97.38% | Test Loss: 0.0891, Test Acc: 96.80%\n",
            "Epoch 8 | Train Loss: 0.0689, Train Acc: 97.89% | Test Loss: 0.0785, Test Acc: 97.05%\n",
            "Epoch 9 | Train Loss: 0.0585, Train Acc: 98.08% | Test Loss: 0.0715, Test Acc: 97.05%\n",
            "Epoch 10 | Train Loss: 0.0510, Train Acc: 98.36% | Test Loss: 0.0660, Test Acc: 97.25%\n",
            "Epoch 11 | Train Loss: 0.0456, Train Acc: 98.55% | Test Loss: 0.0621, Test Acc: 97.35%\n",
            "Epoch 12 | Train Loss: 0.0417, Train Acc: 98.60% | Test Loss: 0.0581, Test Acc: 97.45%\n",
            "Epoch 13 | Train Loss: 0.0384, Train Acc: 98.70% | Test Loss: 0.0554, Test Acc: 97.55%\n",
            "Epoch 14 | Train Loss: 0.0355, Train Acc: 98.79% | Test Loss: 0.0531, Test Acc: 97.65%\n",
            "Epoch 15 | Train Loss: 0.0334, Train Acc: 98.75% | Test Loss: 0.0519, Test Acc: 97.65%\n",
            "Epoch 16 | Train Loss: 0.0316, Train Acc: 98.78% | Test Loss: 0.0487, Test Acc: 97.90%\n",
            "Epoch 17 | Train Loss: 0.0294, Train Acc: 98.89% | Test Loss: 0.0469, Test Acc: 97.90%\n",
            "Epoch 18 | Train Loss: 0.0278, Train Acc: 98.99% | Test Loss: 0.0451, Test Acc: 97.95%\n",
            "Epoch 19 | Train Loss: 0.0264, Train Acc: 99.02% | Test Loss: 0.0437, Test Acc: 98.10%\n",
            "Epoch 20 | Train Loss: 0.0251, Train Acc: 99.05% | Test Loss: 0.0431, Test Acc: 98.00%\n"
          ]
        }
      ]
    },
    {
      "cell_type": "code",
      "source": [
        "cm = confusion_matrix(test_true_outcome, test_predicted_outcome)\n",
        "\n",
        "# Plot heatmap\n",
        "plt.figure(figsize=(15, 7))\n",
        "sns.heatmap(cm, annot=True, fmt=\"d\", cmap=\"Blues\", cbar=False)\n",
        "plt.xlabel(\"Predicted argmax position\")\n",
        "plt.ylabel(\"True argmax position\")\n",
        "plt.title(f\"Confusion Matrix Heatmap (input seq_len: {seq_len}; test data accuracy: {round(test_accuracy,2)}%)\")\n",
        "plt.show()"
      ],
      "metadata": {
        "colab": {
          "base_uri": "https://localhost:8080/",
          "height": 606
        },
        "id": "bYQ9tSz91Lm7",
        "outputId": "fbb22683-e78a-442e-a904-c5095908d5bd"
      },
      "execution_count": 45,
      "outputs": [
        {
          "output_type": "display_data",
          "data": {
            "text/plain": [
              "<Figure size 1500x700 with 1 Axes>"
            ],
            "image/png": "[encoded data removed]"
          },
          "metadata": {}
        }
      ]
    },
    {
      "cell_type": "code",
      "source": [],
      "metadata": {
        "id": "t2mjxlQD1Lpq"
      },
      "execution_count": 45,
      "outputs": []
    },
    {
      "cell_type": "code",
      "source": [],
      "metadata": {
        "id": "ejVypR4t1Lse"
      },
      "execution_count": 45,
      "outputs": []
    },
    {
      "cell_type": "code",
      "source": [],
      "metadata": {
        "id": "SD7Ww14F1Lu3"
      },
      "execution_count": 45,
      "outputs": []
    },
    {
      "cell_type": "code",
      "source": [],
      "metadata": {
        "id": "TAY7wvKC1Lyw"
      },
      "execution_count": 45,
      "outputs": []
    },
    {
      "cell_type": "code",
      "source": [],
      "metadata": {
        "id": "KVJc9Kcg1L2W"
      },
      "execution_count": 45,
      "outputs": []
    }
  ]
}